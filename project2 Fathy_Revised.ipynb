{
 "cells": [
  {
   "cell_type": "markdown",
   "metadata": {},
   "source": [
    "# Project: No-show appointments\n",
    "\n",
    "## Table of Contents\n",
    "<ul>\n",
    "<li><a href=\"#intro\">1. Introduction</a></li>\n",
    "<li><a href=\"#wrangling\">2. Data Wrangling</a></li>\n",
    "<li><a href=\"#eda\">3. Exploratory Data Analysis</a></li>\n",
    "<li><a href=\"#conclusions\">4. Conclusions</a></li>\n",
    "</ul>"
   ]
  },
  {
   "cell_type": "markdown",
   "metadata": {},
   "source": [
    "<a id='intro'></a>\n",
    "## 1. Introduction\n",
    "\n",
    "> This dataset collects information from 100k medical appointments in Brazil and is focused on the question of whether or not patients show up for their appointment. The original data and its details can be found [here](https://www.kaggle.com/joniarroba/noshowappointments). The data set consists of 110.527 medical appointments its 14 associated variables (characteristics). The most important one if the patient show-up or no-show to the appointment. \n",
    ">\n",
    "> Firstly, the data was cleaned to be ready for analysis. Next, data was visualized to show patterns between variables and answer some questions related to the effect of some variables on patients' no-show status. This study focused only on 3 variables; SMS_received, age, and disease history. Conclusions were eventually mentioed to show how the seleceted variables are related to the response variable and whether the questions are well answered. "
   ]
  },
  {
   "cell_type": "code",
   "execution_count": 1,
   "metadata": {},
   "outputs": [],
   "source": [
    "# Use this cell to set up import statements for all of the packages that you\n",
    "#   plan to use.\n",
    "\n",
    "# Remember to include a 'magic word' so that your visualizations are plotted\n",
    "#   inline with the notebook. See this page for more:\n",
    "#   http://ipython.readthedocs.io/en/stable/interactive/magics.html\n",
    "\n",
    "import pandas as pd\n",
    "import numpy as np\n",
    "import matplotlib.pyplot as plt\n",
    "%matplotlib inline"
   ]
  },
  {
   "cell_type": "code",
   "execution_count": 2,
   "metadata": {},
   "outputs": [],
   "source": [
    "# Create a function to set title and labels of histograms/bar plots\n",
    "def complete_plot(title_,x_label,y_label):\n",
    "    plt.title(title_)\n",
    "    plt.xlabel(x_label)\n",
    "    plt.ylabel(y_label);"
   ]
  },
  {
   "cell_type": "markdown",
   "metadata": {},
   "source": [
    "<a id='wrangling'></a>\n",
    "## 2. Data Wrangling\n",
    "\n",
    "> Data wrangling is necessary to make the data ready for analysis. It starts with importing data, and then cleaning it against missing values, duplicates, and incorrect data types.\n",
    "\n",
    "### 2.a. Data Importing"
   ]
  },
  {
   "cell_type": "code",
   "execution_count": 3,
   "metadata": {},
   "outputs": [],
   "source": [
    "# Load your data and print out a few lines. Perform operations to inspect data\n",
    "#   types and look for instances of missing or possibly errant data.\n",
    "df = pd.read_csv('project_2_V1.csv')"
   ]
  },
  {
   "cell_type": "markdown",
   "metadata": {},
   "source": [
    "### 2.b Data Cleaning\n",
    "Firstly, data is explored to check for missing values."
   ]
  },
  {
   "cell_type": "code",
   "execution_count": 4,
   "metadata": {},
   "outputs": [
    {
     "name": "stdout",
     "output_type": "stream",
     "text": [
      "<class 'pandas.core.frame.DataFrame'>\n",
      "RangeIndex: 110527 entries, 0 to 110526\n",
      "Data columns (total 14 columns):\n",
      " #   Column          Non-Null Count   Dtype  \n",
      "---  ------          --------------   -----  \n",
      " 0   PatientId       110527 non-null  float64\n",
      " 1   AppointmentID   110527 non-null  int64  \n",
      " 2   Gender          110527 non-null  object \n",
      " 3   ScheduledDay    110527 non-null  object \n",
      " 4   AppointmentDay  110527 non-null  object \n",
      " 5   Age             110527 non-null  int64  \n",
      " 6   Neighbourhood   110527 non-null  object \n",
      " 7   Scholarship     110527 non-null  int64  \n",
      " 8   Hipertension    110527 non-null  int64  \n",
      " 9   Diabetes        110527 non-null  int64  \n",
      " 10  Alcoholism      110527 non-null  int64  \n",
      " 11  Handcap         110527 non-null  int64  \n",
      " 12  SMS_received    110527 non-null  int64  \n",
      " 13  No-show         110527 non-null  object \n",
      "dtypes: float64(1), int64(8), object(5)\n",
      "memory usage: 11.8+ MB\n"
     ]
    }
   ],
   "source": [
    "# showing data information, number of columns and non-null values\n",
    "df.info()"
   ]
  },
  {
   "cell_type": "markdown",
   "metadata": {},
   "source": [
    "It's clear from the above information that there are no missing values. However, Let's check if there are 'Age' values that are less than 0"
   ]
  },
  {
   "cell_type": "code",
   "execution_count": 5,
   "metadata": {},
   "outputs": [
    {
     "data": {
      "text/plain": [
       "1"
      ]
     },
     "execution_count": 5,
     "metadata": {},
     "output_type": "execute_result"
    }
   ],
   "source": [
    "#Check 'Age' values that are less than 0\n",
    "len(df[df['Age']<0])"
   ]
  },
  {
   "cell_type": "code",
   "execution_count": 6,
   "metadata": {},
   "outputs": [],
   "source": [
    "#Drop rows where 'Age' values that are less than 0\n",
    "df.drop(labels=df[df['Age']<0].index, inplace = True)"
   ]
  },
  {
   "cell_type": "code",
   "execution_count": 7,
   "metadata": {},
   "outputs": [
    {
     "data": {
      "text/plain": [
       "0"
      ]
     },
     "execution_count": 7,
     "metadata": {},
     "output_type": "execute_result"
    }
   ],
   "source": [
    "# Check for duplicates\n",
    "sum(df.duplicated())"
   ]
  },
  {
   "cell_type": "markdown",
   "metadata": {},
   "source": [
    "Fortunately, there are no duplicated values in the data set. Although there are some incorrect data types, such as the 'ScheduledDay' and 'AppointmentDay' which should be converted into datetime, we don't need to use them in our study so we will keep them as they are. However, new features will be created in the Exploration section."
   ]
  },
  {
   "cell_type": "markdown",
   "metadata": {},
   "source": [
    "<a id='eda'></a>\n",
    "## 3. Exploratory Data Analysis\n",
    "\n",
    "> This section includes data vidualization and feature engineering. It aims at using the data to answer some questions related to the patients' 'no-show' status and its relationship with other variables. \n",
    "\n",
    "### 3.1 Research Question 1 (What is the relationship between the SMS_received and no-show status?)\n",
    "Firstly, we need to check how many SMS_received observation types in the data set. Then we need to know the value counts in the data set in order to guarantee a fair comparison between them. "
   ]
  },
  {
   "cell_type": "code",
   "execution_count": 8,
   "metadata": {
    "scrolled": true
   },
   "outputs": [
    {
     "data": {
      "text/plain": [
       "array([0, 1], dtype=int64)"
      ]
     },
     "execution_count": 8,
     "metadata": {},
     "output_type": "execute_result"
    }
   ],
   "source": [
    "# How many SMS_received types?\n",
    "df['SMS_received'].unique()"
   ]
  },
  {
   "cell_type": "code",
   "execution_count": 9,
   "metadata": {},
   "outputs": [
    {
     "data": {
      "image/png": "[encoded data removed]",
      "text/plain": [
       "<Figure size 432x288 with 1 Axes>"
      ]
     },
     "metadata": {
      "needs_background": "light"
     },
     "output_type": "display_data"
    }
   ],
   "source": [
    "# Plot the value counts of the SMS_received\n",
    "df['SMS_received'].hist()\n",
    "complete_plot('SMS_received Histogram (0: Didn\\'t receive, 1: Received)','SMS_received','Value Counts')"
   ]
  },
  {
   "cell_type": "markdown",
   "metadata": {},
   "source": [
    "There are only two types of SMS_received. It's shown from the histogram above that the number of people who didn't receive SMS is about twice the number of those who didn't receive. Hence, we need to link the no-show status to the proportions of the two possibilities rather than the value counts."
   ]
  },
  {
   "cell_type": "code",
   "execution_count": 10,
   "metadata": {},
   "outputs": [],
   "source": [
    "# Calculate the total number of the two possibilities\n",
    "total_received = df['SMS_received'].value_counts()[1]\n",
    "total_not_received = df['SMS_received'].value_counts()[0]"
   ]
  },
  {
   "cell_type": "code",
   "execution_count": 11,
   "metadata": {},
   "outputs": [],
   "source": [
    "# Calculate the number of patients whose status is no-show and whether they received SMS or not\n",
    "no_show_received = df[df['No-show']=='Yes']['SMS_received'].value_counts()[1]\n",
    "no_show_not_received = df[df['No-show']=='Yes']['SMS_received'].value_counts()[0]"
   ]
  },
  {
   "cell_type": "code",
   "execution_count": 12,
   "metadata": {},
   "outputs": [],
   "source": [
    "# Calculate the proportions of the two possibilities\n",
    "prop_received = no_show_received/total_received\n",
    "prop_not_received = no_show_not_received/total_not_received"
   ]
  },
  {
   "cell_type": "code",
   "execution_count": 13,
   "metadata": {},
   "outputs": [
    {
     "data": {
      "image/png": "[encoded data removed]",
      "text/plain": [
       "<Figure size 432x288 with 1 Axes>"
      ]
     },
     "metadata": {
      "needs_background": "light"
     },
     "output_type": "display_data"
    }
   ],
   "source": [
    "# plot the proportions\n",
    "plt.bar([1,2],[prop_not_received,prop_received],tick_label=['SMS not received','SMS received'])\n",
    "complete_plot('Histogram of the proportions of patients who didn\\'t show up and whether they received SMS','SMS_received','Proportions')"
   ]
  },
  {
   "cell_type": "markdown",
   "metadata": {},
   "source": [
    "The above histogram shows a weired observation. The propotion of patients who didn't show up and received SMS is higher than those who neither showed up nor received SMS. "
   ]
  },
  {
   "cell_type": "markdown",
   "metadata": {},
   "source": [
    "### Research Question 2  (What is the relationship between the age and no-show status?)\n",
    "In order to answer this question, we need to know the statistical information of the 'Age' variable as well as show it in a histogram."
   ]
  },
  {
   "cell_type": "code",
   "execution_count": 14,
   "metadata": {},
   "outputs": [
    {
     "data": {
      "text/plain": [
       "count    110526.000000\n",
       "mean         37.089219\n",
       "std          23.110026\n",
       "min           0.000000\n",
       "25%          18.000000\n",
       "50%          37.000000\n",
       "75%          55.000000\n",
       "max         115.000000\n",
       "Name: Age, dtype: float64"
      ]
     },
     "execution_count": 14,
     "metadata": {},
     "output_type": "execute_result"
    }
   ],
   "source": [
    "# statistics of 'Age' Variable\n",
    "df['Age'].describe()"
   ]
  },
  {
   "cell_type": "code",
   "execution_count": 15,
   "metadata": {},
   "outputs": [
    {
     "data": {
      "image/png": "[encoded data removed]",
      "text/plain": [
       "<Figure size 432x288 with 1 Axes>"
      ]
     },
     "metadata": {
      "needs_background": "light"
     },
     "output_type": "display_data"
    }
   ],
   "source": [
    "# Age histogram\n",
    "df['Age'].hist()\n",
    "complete_plot('Age Histogram','Age','Value Counts')"
   ]
  },
  {
   "cell_type": "markdown",
   "metadata": {},
   "source": [
    "The above histogram tells that the distribution of age is left-skewed. This means that most of the reservations are for younger people. The minimum age is 0, which is for sure less than one year, while the mean age is 37. In order to link the age to the no-show status, we need first to categorize the 'Age' variable into 4 levels."
   ]
  },
  {
   "cell_type": "code",
   "execution_count": 16,
   "metadata": {},
   "outputs": [],
   "source": [
    "# categorize the 'Age' variable\n",
    "bin_edges = [0.,18.,37.,55.,115.]\n",
    "bin_labels = ['child','young','adult','old']\n",
    "df['Age Levels'] = pd.cut(df['Age'], bin_edges, labels = bin_labels)"
   ]
  },
  {
   "cell_type": "code",
   "execution_count": 17,
   "metadata": {},
   "outputs": [],
   "source": [
    "# explore the relationship between the age levels and no-show status\n",
    "# Value counts of the age levels\n",
    "total_counts = df['Age Levels'].value_counts()"
   ]
  },
  {
   "cell_type": "code",
   "execution_count": 18,
   "metadata": {},
   "outputs": [],
   "source": [
    "#The number of total \n",
    "noshow_counts= df[df['No-show']=='Yes']['Age Levels'].value_counts()"
   ]
  },
  {
   "cell_type": "code",
   "execution_count": 19,
   "metadata": {},
   "outputs": [],
   "source": [
    "# The proportions of each age level who didn't show up \n",
    "props = noshow_counts/total_counts"
   ]
  },
  {
   "cell_type": "code",
   "execution_count": 20,
   "metadata": {},
   "outputs": [
    {
     "data": {
      "image/png": "[encoded data removed]",
      "text/plain": [
       "<Figure size 432x288 with 1 Axes>"
      ]
     },
     "metadata": {
      "needs_background": "light"
     },
     "output_type": "display_data"
    }
   ],
   "source": [
    "# histogram of proportions of different age levels who didn't show up\n",
    "plt.bar([1,2,3,4],[props[0],props[1],props[2],props[3]],tick_label=['child', 'young', 'adult', 'old'])\n",
    "complete_plot('Histogram of proportions of different age levels who didn\\'t show up','Age Level','Proportions')"
   ]
  },
  {
   "cell_type": "markdown",
   "metadata": {},
   "source": [
    "The bar chart above shows that the possibility of not showing up is higher for younger people compared to older people."
   ]
  },
  {
   "cell_type": "markdown",
   "metadata": {},
   "source": [
    "### Research Question 3  (What is the relationship between the disease history and no-show status?)\n",
    "Let's group the data so that we know the number of no-show status for patients and whether they have hipertension and/or diabetes. We have to create a new variable called 'Disease History' that adds up the variables 'Hipertension' and 'Diabetes'"
   ]
  },
  {
   "cell_type": "code",
   "execution_count": 21,
   "metadata": {},
   "outputs": [
    {
     "data": {
      "text/plain": [
       "0    87268\n",
       "1    16772\n",
       "2     6486\n",
       "Name: Disease History, dtype: int64"
      ]
     },
     "execution_count": 21,
     "metadata": {},
     "output_type": "execute_result"
    }
   ],
   "source": [
    "# create a new variable called 'Disease History' that adds up the variables 'Hipertension' and 'Diabetes'\n",
    "df['Disease History']=df['Hipertension']+df['Diabetes']\n",
    "# Value counts of 'Disease History'\n",
    "df['Disease History'].value_counts()"
   ]
  },
  {
   "cell_type": "markdown",
   "metadata": {},
   "source": [
    "The 'Disease History' counts show that the number of patients not having disease history is about 4 times that of the patients having diabetes and/or hipertension. Accordingly, we need to calculate the proportion of each category to guarantee a fair comparison between them."
   ]
  },
  {
   "cell_type": "code",
   "execution_count": 22,
   "metadata": {},
   "outputs": [
    {
     "data": {
      "text/plain": [
       "Disease History  No-show\n",
       "0                No         69010\n",
       "                 Yes        18258\n",
       "1                No         13852\n",
       "                 Yes         2920\n",
       "2                No          5345\n",
       "                 Yes         1141\n",
       "Name: Age, dtype: int64"
      ]
     },
     "execution_count": 22,
     "metadata": {},
     "output_type": "execute_result"
    }
   ],
   "source": [
    "# counts of patients in terms of disease history and no-show status\n",
    "counts = df.groupby(['Disease History','No-show']).count()['Age']\n",
    "counts"
   ]
  },
  {
   "cell_type": "code",
   "execution_count": 23,
   "metadata": {},
   "outputs": [
    {
     "data": {
      "text/plain": [
       "Disease History\n",
       "0    87268\n",
       "1    16772\n",
       "2     6486\n",
       "Name: Age, dtype: int64"
      ]
     },
     "execution_count": 23,
     "metadata": {},
     "output_type": "execute_result"
    }
   ],
   "source": [
    "# counts of patients in terms of disease history\n",
    "totals = df.groupby(['Disease History']).count()['Age']\n",
    "totals"
   ]
  },
  {
   "cell_type": "code",
   "execution_count": 24,
   "metadata": {},
   "outputs": [
    {
     "data": {
      "text/plain": [
       "Disease History  No-show\n",
       "0                No         0.790782\n",
       "                 Yes        0.209218\n",
       "1                No         0.825900\n",
       "                 Yes        0.174100\n",
       "2                No         0.824083\n",
       "                 Yes        0.175917\n",
       "Name: Age, dtype: float64"
      ]
     },
     "execution_count": 24,
     "metadata": {},
     "output_type": "execute_result"
    }
   ],
   "source": [
    "# calculate proportion of each category\n",
    "proprtions = counts/totals\n",
    "proprtions"
   ]
  },
  {
   "cell_type": "code",
   "execution_count": 25,
   "metadata": {},
   "outputs": [
    {
     "data": {
      "text/plain": [
       "No-show\n",
       "No     0.824083\n",
       "Yes    0.175917\n",
       "Name: Age, dtype: float64"
      ]
     },
     "execution_count": 25,
     "metadata": {},
     "output_type": "execute_result"
    }
   ],
   "source": [
    "# split the proportions of each disease category\n",
    "zero_prop = proprtions[0]\n",
    "one_prop = proprtions[1]\n",
    "two_prop = proprtions[2]\n",
    "two_prop"
   ]
  },
  {
   "cell_type": "code",
   "execution_count": 26,
   "metadata": {
    "scrolled": true
   },
   "outputs": [],
   "source": [
    "# define the x locations\n",
    "ind = np.arange(len(zero_prop))"
   ]
  },
  {
   "cell_type": "code",
   "execution_count": 28,
   "metadata": {},
   "outputs": [],
   "source": [
    "#define width of bars\n",
    "width = 0.2\n",
    "#define x-tick locations\n",
    "locations = (2*ind+2*width)/2"
   ]
  },
  {
   "cell_type": "code",
   "execution_count": 30,
   "metadata": {},
   "outputs": [
    {
     "data": {
      "image/png": "[encoded data removed]",
      "text/plain": [
       "<Figure size 432x288 with 1 Axes>"
      ]
     },
     "metadata": {
      "needs_background": "light"
     },
     "output_type": "display_data"
    }
   ],
   "source": [
    "#Define the bar of each disease category\n",
    "zero_bar = plt.bar(ind,zero_prop,width,color='g',alpha=0.7,label='0 Diseases')\n",
    "one_bar = plt.bar(ind+width,one_prop,width,color='y',alpha=0.7,label='1 Disease')\n",
    "two_bar = plt.bar(ind+2*width,two_prop,width,color='r',alpha=0.7,label='2 Diseases')\n",
    "#define title and labels\n",
    "complete_plot('proportions by disease history and no-show status','no-show status','proportions')\n",
    "#define x-tick and legend\n",
    "plt.xticks(locations,['Showed up','Didn\\' show up'])\n",
    "plt.legend();"
   ]
  },
  {
   "cell_type": "markdown",
   "metadata": {},
   "source": [
    "The bar diagram above shows that patients who don't have disease history are less likely to show up compared to those who have one or more diseases. "
   ]
  },
  {
   "cell_type": "markdown",
   "metadata": {},
   "source": [
    "<a id='conclusions'></a>\n",
    "## Conclusions\n",
    "\n",
    "> The study answered two questions focusing on the effect of SMS-received, age, and disease-history variables on the no-show status. The propotion of patients who didn't show up and received SMS is higher than those who neither showed up nor received SMS. This finding is weird and not logic because people who receives SMS should be more likely to show up. However, the gathered data might be inaccurate or some patients might not check their SMS. The second finding is that the possibility of not showing up is higher for younger people compared to older people. The final observation is that patients who don't have disease history are less likely to show up compared to those who have one or more diseases."
   ]
  },
  {
   "cell_type": "code",
   "execution_count": null,
   "metadata": {},
   "outputs": [],
   "source": []
  }
 ],
 "metadata": {
  "kernelspec": {
   "display_name": "Python 3",
   "language": "python",
   "name": "python3"
  },
  "language_info": {
   "codemirror_mode": {
    "name": "ipython",
    "version": 3
   },
   "file_extension": ".py",
   "mimetype": "text/x-python",
   "name": "python",
   "nbconvert_exporter": "python",
   "pygments_lexer": "ipython3",
   "version": "3.8.8"
  }
 },
 "nbformat": 4,
 "nbformat_minor": 2
}
